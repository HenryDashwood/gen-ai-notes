{
 "cells": [
  {
   "cell_type": "markdown",
   "metadata": {},
   "source": [
    "---\n",
    "title: \"**Generative AI Notes**\"\n",
    "---\n"
   ]
  },
  {
   "cell_type": "markdown",
   "metadata": {},
   "source": [
    "Part of [henrydashwood.com](https://henrydashwood.com)\n"
   ]
  },
  {
   "cell_type": "markdown",
   "metadata": {
    "vscode": {
     "languageId": "plaintext"
    }
   },
   "source": [
    "## Links\n"
   ]
  },
  {
   "cell_type": "markdown",
   "metadata": {
    "vscode": {
     "languageId": "plaintext"
    }
   },
   "source": [
    "- [A hacker's guide to Language Models](https://github.com/fastai/lm-hackers/blob/main/lm-hackers.ipynb)\n",
    "- [Using LLMs to extract structured data from text](https://medium.com/@gurpartap.sandhu3/title-using-llms-to-extract-structured-data-from-text-f3578fdc365b)\n",
    "- [LayoutLM: Extracting Entities from Structured Documents, a Practical Guide](https://medium.com/@ravisatvik.192/unleashing-the-power-of-layoutlm-extracting-entities-from-structured-documents-made-easy-5d82c6290ec7)\n",
    "- [Leveraging GPT-4 for PDF Data Extraction: A Comprehensive Guide](https://www.docsumo.com/blog/pdf-reading-with-gpt4)\n",
    "- [Using Llama 2 to Answer Questions About Local Documents](https://swharden.com/blog/2023-07-30-ai-document-qa/)\n"
   ]
  },
  {
   "cell_type": "markdown",
   "metadata": {},
   "source": [
    "## Tools\n",
    "\n",
    "- [Marker](https://github.com/VikParuchuri/marker?tab=readme-ov-file)\n",
    "- [Pydantic](https://docs.pydantic.dev/)\n",
    "- [OpenAI](https://github.com/openai/openai-python)\n",
    "- [Outlines](https://outlines-dev.github.io/)\n",
    "- Langchain\n"
   ]
  }
 ],
 "metadata": {
  "language_info": {
   "name": "python"
  }
 },
 "nbformat": 4,
 "nbformat_minor": 2
}
